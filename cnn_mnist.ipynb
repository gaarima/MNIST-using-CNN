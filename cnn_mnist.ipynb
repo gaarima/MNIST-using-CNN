{
 "cells": [
  {
   "cell_type": "code",
   "execution_count": 1,
   "metadata": {},
   "outputs": [],
   "source": [
    "from torchvision import datasets, transforms\n",
    "import torch\n",
    "import matplotlib.pyplot as plt\n",
    "from torch.utils.data import DataLoader\n",
    "import torch.nn as nn\n",
    "import torch.nn.functional as F\n",
    "import torch.optim as optim"
   ]
  },
  {
   "cell_type": "code",
   "execution_count": 2,
   "metadata": {},
   "outputs": [],
   "source": [
    "transform=transforms.Compose([transforms.ToTensor()])"
   ]
  },
  {
   "cell_type": "code",
   "execution_count": 3,
   "metadata": {},
   "outputs": [],
   "source": [
    "MNIST = datasets.MNIST('D:/', train= True, download = False, transform = transform)"
   ]
  },
  {
   "cell_type": "code",
   "execution_count": 4,
   "metadata": {},
   "outputs": [],
   "source": [
    "train_loader = DataLoader(MNIST, batch_size=32, shuffle=True)"
   ]
  },
  {
   "cell_type": "code",
   "execution_count": 5,
   "metadata": {},
   "outputs": [],
   "source": [
    "class MNIST_NET(nn.Module):\n",
    "    def __init__(self):\n",
    "        super(MNIST_NET, self).__init__()\n",
    "        self.conv1 = nn.Conv2d(1,20,5)\n",
    "        self.conv2 = nn.Conv2d(20,50,5)\n",
    "        self.linear1 = nn.Linear(800,500)\n",
    "        self.linear2 = nn.Linear(500,10)\n",
    "    def forward(self, x):\n",
    "        x = F.relu(self.conv1(x))\n",
    "        x = F.max_pool2d(x,(2,2))\n",
    "        x = F.relu(self.conv2(x))\n",
    "        x = F.max_pool2d(x,(2,2))\n",
    "        x = x.view(-1,4*4*50)\n",
    "        x =F.relu(self.linear1(x))\n",
    "        x = self.linear2(x)\n",
    "        return F.softmax(x, dim = 1)\n",
    "        "
   ]
  },
  {
   "cell_type": "code",
   "execution_count": 7,
   "metadata": {},
   "outputs": [],
   "source": [
    "device = torch.device('cuda' if torch.cuda.is_available() else'cpu')\n",
    "model = MNIST_NET().to(device)\n",
    "#model.load_state_dict(torch.load('Saved_Weights/CNN_11.pt'))"
   ]
  },
  {
   "cell_type": "code",
   "execution_count": 8,
   "metadata": {},
   "outputs": [],
   "source": [
    "criterion = nn.CrossEntropyLoss().to(device)\n",
    "optimizer = optim.Adam(model.parameters(), lr = 0.001)"
   ]
  },
  {
   "cell_type": "code",
   "execution_count": 9,
   "metadata": {
    "scrolled": false
   },
   "outputs": [
    {
     "name": "stdout",
     "output_type": "stream",
     "text": [
      "Epoch 1/10 , Loss: 1.525862047513326\n",
      "Epoch 2/10 , Loss: 1.4849230217615763\n",
      "Epoch 3/10 , Loss: 1.479650120608012\n",
      "Epoch 4/10 , Loss: 1.4763073597590128\n",
      "Epoch 5/10 , Loss: 1.4767597573598226\n",
      "Epoch 6/10 , Loss: 1.4750546988805135\n",
      "Epoch 7/10 , Loss: 1.4742090458552042\n",
      "Epoch 8/10 , Loss: 1.4752289520899455\n",
      "Epoch 9/10 , Loss: 1.4745552492141725\n",
      "Epoch 10/10 , Loss: 1.4727225736618041\n"
     ]
    }
   ],
   "source": [
    "start_epoch = 0\n",
    "end_epoch = 10\n",
    "for epoch in range(start_epoch, end_epoch):\n",
    "    total_loss = 0\n",
    "    for idx , (image,label) in enumerate(train_loader):\n",
    "        model.zero_grad()\n",
    "        output = model(image.to(device))\n",
    "        #print (image.size)\n",
    "        loss = criterion(output, label.to(device))\n",
    "        loss.backward()\n",
    "        optimizer.step()\n",
    "        total_loss += loss.item()\n",
    "    print('Epoch {}/{} , Loss: {}'.format(epoch + 1, end_epoch , total_loss/len(train_loader)))\n",
    "    torch.save(model.state_dict(), 'Saved_Weights/CNN_{}.pt'.format(epoch))"
   ]
  },
  {
   "cell_type": "code",
   "execution_count": 10,
   "metadata": {},
   "outputs": [],
   "source": [
    "test_dataset = datasets.MNIST('D:/',train= False, download = False, transform = transform)"
   ]
  },
  {
   "cell_type": "code",
   "execution_count": 11,
   "metadata": {},
   "outputs": [],
   "source": [
    "test_loader = DataLoader (test_dataset , batch_size= 1)"
   ]
  },
  {
   "cell_type": "code",
   "execution_count": 13,
   "metadata": {},
   "outputs": [
    {
     "name": "stdout",
     "output_type": "stream",
     "text": [
      "Accuracy:  98.35000000000001 Loss:  1.4777639600157737\n"
     ]
    }
   ],
   "source": [
    "accuracy = 0\n",
    "total_loss = 0\n",
    "with torch.no_grad():\n",
    "    for idx, (image , labels) in enumerate (test_loader):\n",
    "        inp = image.to(device).float()\n",
    "        output = model(inp)\n",
    "        #plt.imshow(inp.cpu().squeeze(0).squeeze(0))\n",
    "        #plt.show()\n",
    "        pred = output.argmax(dim= 1 , keepdim = True)\n",
    "        #print(pred.item())\n",
    "        total_loss += criterion(output, labels.to(device)).item()\n",
    "        if pred == labels.item():\n",
    "            accuracy +=1\n",
    "        #print(\".................................................................\")\n",
    "    print('Accuracy: ',accuracy/len(test_loader)* 100 , 'Loss: ',total_loss/len(test_loader))\n"
   ]
  },
  {
   "cell_type": "code",
   "execution_count": null,
   "metadata": {},
   "outputs": [],
   "source": []
  }
 ],
 "metadata": {
  "kernelspec": {
   "display_name": "Python 3",
   "language": "python",
   "name": "python3"
  },
  "language_info": {
   "codemirror_mode": {
    "name": "ipython",
    "version": 3
   },
   "file_extension": ".py",
   "mimetype": "text/x-python",
   "name": "python",
   "nbconvert_exporter": "python",
   "pygments_lexer": "ipython3",
   "version": "3.6.4"
  }
 },
 "nbformat": 4,
 "nbformat_minor": 2
}
